{
  "nbformat": 4,
  "nbformat_minor": 0,
  "metadata": {
    "colab": {
      "name": "Download Volvo Dealers",
      "provenance": [],
      "collapsed_sections": []
    },
    "kernelspec": {
      "name": "python3",
      "display_name": "Python 3"
    }
  },
  "cells": [
    {
      "cell_type": "code",
      "metadata": {
        "id": "4h4L0UUl1aDG"
      },
      "source": [
        "page_count = 50\n",
        "\n",
        "def get_page_url(pageno, zip, max_radius):\n",
        "  offset = pageno*page_count\n",
        "  return 'https://liveapi.yext.com/v2/accounts/1342454/entities/geosearch?api_key=e3101b0a7c8f6bbd85f09c65cc1f29c7&v=20201126&location=' + str(zip) + '&radius=' + str(max_radius) + '&countryBias=US&entityTypes=Location&languages=en&filter={%22closed%22:{%22$eq%22:false}}&limit=50&offset=' + str(offset) + '&fields=name,address,mainPhone,hours,yextDisplayCoordinate,c_activeDealer,c_volvoDealer,c_customWebsite,c_newCarLocator,c_uCLURL,c_scheduleService,c_localOffers,c_servicePartsOffersWebsite,c_servicePartsOffersTrackingTag,c_serviceCenterPhoneNumber,c_partsPhoneNumber2,c_dealerSiteTrackingTag&randomization=0'\n",
        "\n",
        "import urllib.request\n",
        "import json\n",
        "\n",
        "def download_page(pageno, zip, max_radius):\n",
        "  url = get_page_url(pageno, zip, max_radius)\n",
        "  filedata = json.loads(urllib.request.urlopen(url).read().decode())\n",
        "  return filedata\n",
        "\n",
        "def get_dealers(json):\n",
        "  return json['response']['entities']\n",
        "\n",
        "def download_all(zip, max_radius=500):\n",
        "  dealers = []\n",
        "\n",
        "  for pageno in range(0, 20):\n",
        "    #print(\"Page %d\" % pageno)\n",
        "    tmpd = download_page(pageno, zip, max_radius)\n",
        "    dealers = dealers + get_dealers(tmpd)\n",
        "\n",
        "    if len(get_dealers(tmpd)) < page_count:\n",
        "      break\n",
        "\n",
        "  return dealers"
      ],
      "execution_count": null,
      "outputs": []
    },
    {
      "cell_type": "code",
      "metadata": {
        "id": "X6QiYh_U2Gls"
      },
      "source": [
        "#@title Default title text\n",
        "zipcode = 90210 #@param {type:\"integer\"}\n",
        "max_radius = 500 #@param {type:\"integer\"}\n",
        "# Change this to the zip and radius you are interested in\n",
        "jsond = download_all(zipcode, max_radius=max_radius)"
      ],
      "execution_count": null,
      "outputs": []
    },
    {
      "cell_type": "code",
      "metadata": {
        "id": "FMaxYEsj6Sfk"
      },
      "source": [
        "with open('volvo.json', 'w') as outfile:\n",
        "    json.dump(jsond, outfile, sort_keys=True, indent=4)"
      ],
      "execution_count": null,
      "outputs": []
    },
    {
      "cell_type": "code",
      "metadata": {
        "colab": {
          "base_uri": "https://localhost:8080/"
        },
        "id": "VNThZQDG6IV0",
        "outputId": "706c0a80-cbd2-47e9-e209-f9cd072c8d40"
      },
      "source": [
        "jsond[0]"
      ],
      "execution_count": null,
      "outputs": [
        {
          "output_type": "execute_result",
          "data": {
            "text/plain": [
              "{'address': {'city': 'East Petersburg',\n",
              "  'countryCode': 'US',\n",
              "  'line1': '5455 Manheim Pike',\n",
              "  'postalCode': '17520',\n",
              "  'region': 'PA'},\n",
              " 'c_activeDealer': True,\n",
              " 'c_customWebsite': 'https://www.stadelmotors.com/',\n",
              " 'c_dealerSiteTrackingTag': '?ddcref=YEXT_DealerSite',\n",
              " 'c_localOffers': 'https://www.stadelmotors.com/promotions/new/index.htm?ddcref=T1_YEXT_Offers',\n",
              " 'c_newCarLocator': 'https://www.stadelmotors.com/new-inventory/index.htm?ddcref=T1_YEXT_NewInv',\n",
              " 'c_scheduleService': 'https://www.stadelmotors.com/service/schedule.htm?ddcref=T1_YEXT_Service',\n",
              " 'c_servicePartsOffersTrackingTag': '?ddcref=T1_YEXT_Service_Parts_Offers',\n",
              " 'c_servicePartsOffersWebsite': 'https://www.stadelmotors.com/specials/service.htm',\n",
              " 'c_uCLURL': 'https://www.stadelmotors.com/used-inventory/index.htm?ddcref=T1_YEXT_PreOwn',\n",
              " 'c_volvoDealer': True,\n",
              " 'hours': {'friday': {'openIntervals': [{'end': '19:00', 'start': '09:00'}]},\n",
              "  'monday': {'openIntervals': [{'end': '19:00', 'start': '09:00'}]},\n",
              "  'saturday': {'openIntervals': [{'end': '18:00', 'start': '09:00'}]},\n",
              "  'sunday': {'openIntervals': [{'end': '16:00', 'start': '10:00'}]},\n",
              "  'thursday': {'openIntervals': [{'end': '19:00', 'start': '09:00'}]},\n",
              "  'tuesday': {'openIntervals': [{'end': '19:00', 'start': '09:00'}]},\n",
              "  'wednesday': {'openIntervals': [{'end': '19:00', 'start': '09:00'}]}},\n",
              " 'mainPhone': '+17175691050',\n",
              " 'meta': {'accountId': '1342454',\n",
              "  'countryCode': 'US',\n",
              "  'entityType': 'location',\n",
              "  'folderId': '284688',\n",
              "  'id': '75200',\n",
              "  'labels': ['35460', '23857', '55453'],\n",
              "  'language': 'en',\n",
              "  'schemaTypes': ['AutoDealer'],\n",
              "  'timestamp': '2020-05-04T06:15:22',\n",
              "  'uid': 'no7o2b'},\n",
              " 'name': 'Stadel Motors, Inc.',\n",
              " 'yextDisplayCoordinate': {'latitude': 40.09260660104774,\n",
              "  'longitude': -76.3482078909874}}"
            ]
          },
          "metadata": {
            "tags": []
          },
          "execution_count": 4
        }
      ]
    }
  ]
}